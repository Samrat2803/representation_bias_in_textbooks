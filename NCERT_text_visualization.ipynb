{
 "cells": [
  {
   "cell_type": "code",
   "execution_count": 5,
   "metadata": {},
   "outputs": [
    {
     "ename": "ModuleNotFoundError",
     "evalue": "No module named 'pdfplumber'",
     "output_type": "error",
     "traceback": [
      "\u001b[0;31m---------------------------------------------------------------------------\u001b[0m",
      "\u001b[0;31mModuleNotFoundError\u001b[0m                       Traceback (most recent call last)",
      "Cell \u001b[0;32mIn[5], line 1\u001b[0m\n\u001b[0;32m----> 1\u001b[0m \u001b[39mimport\u001b[39;00m \u001b[39mpdfplumber\u001b[39;00m\n\u001b[1;32m      3\u001b[0m \u001b[39mwith\u001b[39;00m pdfplumber\u001b[39m.\u001b[39mopen(\u001b[39m\"\u001b[39m\u001b[39m/Users/admin/Downloads/History6.pdf\u001b[39m\u001b[39m\"\u001b[39m) \u001b[39mas\u001b[39;00m pdf:\n\u001b[1;32m      4\u001b[0m     first_page \u001b[39m=\u001b[39m pdf\u001b[39m.\u001b[39mpages[\u001b[39m0\u001b[39m]\n",
      "\u001b[0;31mModuleNotFoundError\u001b[0m: No module named 'pdfplumber'"
     ]
    }
   ],
   "source": [
    "import pdfplumber\n",
    "\n",
    "with pdfplumber.open(\"/Users/admin/Downloads/History6.pdf\") as pdf:\n",
    "    first_page = pdf.pages[0]\n",
    "    print(first_page.chars[0])"
   ]
  },
  {
   "cell_type": "code",
   "execution_count": 4,
   "metadata": {},
   "outputs": [
    {
     "name": "stdout",
     "output_type": "stream",
     "text": [
      "Requirement already satisfied: pdfplumber in /Users/admin/opt/anaconda3/lib/python3.8/site-packages (0.7.6)\n",
      "Requirement already satisfied: Pillow>=9.1 in /Users/admin/opt/anaconda3/lib/python3.8/site-packages (from pdfplumber) (9.4.0)\n",
      "Requirement already satisfied: Wand>=0.6.10 in /Users/admin/opt/anaconda3/lib/python3.8/site-packages (from pdfplumber) (0.6.11)\n",
      "Requirement already satisfied: pdfminer.six==20221105 in /Users/admin/opt/anaconda3/lib/python3.8/site-packages (from pdfplumber) (20221105)\n",
      "Requirement already satisfied: charset-normalizer>=2.0.0 in /Users/admin/opt/anaconda3/lib/python3.8/site-packages (from pdfminer.six==20221105->pdfplumber) (3.0.1)\n",
      "Requirement already satisfied: cryptography>=36.0.0 in /Users/admin/opt/anaconda3/lib/python3.8/site-packages (from pdfminer.six==20221105->pdfplumber) (39.0.0)\n",
      "Requirement already satisfied: cffi>=1.12 in /Users/admin/opt/anaconda3/lib/python3.8/site-packages (from cryptography>=36.0.0->pdfminer.six==20221105->pdfplumber) (1.14.5)\n",
      "Requirement already satisfied: pycparser in /Users/admin/opt/anaconda3/lib/python3.8/site-packages (from cffi>=1.12->cryptography>=36.0.0->pdfminer.six==20221105->pdfplumber) (2.20)\n",
      "\u001b[33mWARNING: You are using pip version 21.2.3; however, version 23.0 is available.\n",
      "You should consider upgrading via the '/Users/admin/opt/anaconda3/bin/python -m pip install --upgrade pip' command.\u001b[0m\n"
     ]
    }
   ],
   "source": [
    "! pip install pdfplumber"
   ]
  }
 ],
 "metadata": {
  "kernelspec": {
   "display_name": "Python 3",
   "language": "python",
   "name": "python3"
  },
  "language_info": {
   "codemirror_mode": {
    "name": "ipython",
    "version": 3
   },
   "file_extension": ".py",
   "mimetype": "text/x-python",
   "name": "python",
   "nbconvert_exporter": "python",
   "pygments_lexer": "ipython3",
   "version": "3.8.2"
  },
  "orig_nbformat": 4,
  "vscode": {
   "interpreter": {
    "hash": "31f2aee4e71d21fbe5cf8b01ff0e069b9275f58929596ceb00d14d90e3e16cd6"
   }
  }
 },
 "nbformat": 4,
 "nbformat_minor": 2
}
